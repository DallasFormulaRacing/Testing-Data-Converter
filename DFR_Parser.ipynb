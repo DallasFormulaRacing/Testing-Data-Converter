{
 "cells": [
  {
   "cell_type": "code",
   "execution_count": 51,
   "metadata": {},
   "outputs": [],
   "source": [
    "import sys, os, glob\n",
    "from itertools import groupby\n",
    "import pandas as pd\n",
    "import matplotlib.pyplot as plt\n",
    "from ldparser import ldData\n",
    "import numpy as np"
   ]
  },
  {
   "cell_type": "code",
   "execution_count": 52,
   "metadata": {},
   "outputs": [
    {
     "name": "stdout",
     "output_type": "stream",
     "text": [
      "Engine Speed\n",
      "Engine Speed Limit\n",
      "Gear\n",
      "Brake State\n",
      "ECU Acceleration X\n",
      "ECU Acceleration Y\n",
      "ECU Acceleration Z\n",
      "Corr Speed\n",
      "Throttle Servo Bank 1 Aim\n",
      "Throttle Servo Bank 1 Position\n",
      "Throttle Pedal\n",
      "Brake Bias Setting\n",
      "Fuel Injector Primary Duty Cycle\n",
      "Throttle Position\n",
      "Throttle Aim\n",
      "Steering Angle\n",
      "Brake Pressure Front\n",
      "Brake Pressure Rear\n",
      "Engine Oil Pressure\n",
      "Brake Temp FL\n",
      "Brake Temp FR\n",
      "Brake Temp RL\n",
      "Brake Temp RR\n",
      "Inlet Air Temperature\n",
      "Coolant Temperature\n",
      "Engine Oil Temperature\n",
      "Differential Temperature\n",
      "Transmission Temperature\n",
      "Tyre Temp FL\n",
      "Tyre Temp FR\n",
      "Tyre Temp RL\n",
      "Tyre Temp RR\n",
      "Fuel Mixture Aim\n",
      "Exhaust Lambda Bank 1\n",
      "Exhaust Lambda Bank 2\n",
      "Exhaust Lambda\n",
      "Inlet Manifold Pressure\n",
      "Fuel Pressure\n",
      "Ignition Timing\n",
      "Ignition Timing Main\n",
      "ECU Battery Voltage\n",
      "Beacon (Internal)\n"
     ]
    },
    {
     "data": {
      "text/html": [
       "<div>\n",
       "<style scoped>\n",
       "    .dataframe tbody tr th:only-of-type {\n",
       "        vertical-align: middle;\n",
       "    }\n",
       "\n",
       "    .dataframe tbody tr th {\n",
       "        vertical-align: top;\n",
       "    }\n",
       "\n",
       "    .dataframe thead th {\n",
       "        text-align: right;\n",
       "    }\n",
       "</style>\n",
       "<table border=\"1\" class=\"dataframe\">\n",
       "  <thead>\n",
       "    <tr style=\"text-align: right;\">\n",
       "      <th></th>\n",
       "      <th>Engine Speed</th>\n",
       "      <th>Engine Speed Limit</th>\n",
       "      <th>Gear</th>\n",
       "      <th>Brake State</th>\n",
       "      <th>ECU Acceleration X</th>\n",
       "      <th>ECU Acceleration Y</th>\n",
       "      <th>ECU Acceleration Z</th>\n",
       "      <th>Corr Speed</th>\n",
       "      <th>Throttle Servo Bank 1 Aim</th>\n",
       "      <th>Throttle Servo Bank 1 Position</th>\n",
       "      <th>...</th>\n",
       "      <th>Fuel Mixture Aim</th>\n",
       "      <th>Exhaust Lambda Bank 1</th>\n",
       "      <th>Exhaust Lambda Bank 2</th>\n",
       "      <th>Exhaust Lambda</th>\n",
       "      <th>Inlet Manifold Pressure</th>\n",
       "      <th>Fuel Pressure</th>\n",
       "      <th>Ignition Timing</th>\n",
       "      <th>Ignition Timing Main</th>\n",
       "      <th>ECU Battery Voltage</th>\n",
       "      <th>Beacon (Internal)</th>\n",
       "    </tr>\n",
       "  </thead>\n",
       "  <tbody>\n",
       "  </tbody>\n",
       "</table>\n",
       "<p>0 rows × 42 columns</p>\n",
       "</div>"
      ],
      "text/plain": [
       "Empty DataFrame\n",
       "Columns: [Engine Speed, Engine Speed Limit, Gear, Brake State, ECU Acceleration X, ECU Acceleration Y, ECU Acceleration Z, Corr Speed, Throttle Servo Bank 1 Aim, Throttle Servo Bank 1 Position, Throttle Pedal, Brake Bias Setting, Fuel Injector Primary Duty Cycle, Throttle Position, Throttle Aim, Steering Angle, Brake Pressure Front, Brake Pressure Rear, Engine Oil Pressure, Brake Temp FL, Brake Temp FR, Brake Temp RL, Brake Temp RR, Inlet Air Temperature, Coolant Temperature, Engine Oil Temperature, Differential Temperature, Transmission Temperature, Tyre Temp FL, Tyre Temp FR, Tyre Temp RL, Tyre Temp RR, Fuel Mixture Aim, Exhaust Lambda Bank 1, Exhaust Lambda Bank 2, Exhaust Lambda, Inlet Manifold Pressure, Fuel Pressure, Ignition Timing, Ignition Timing Main, ECU Battery Voltage, Beacon (Internal)]\n",
       "Index: []\n",
       "\n",
       "[0 rows x 42 columns]"
      ]
     },
     "execution_count": 52,
     "metadata": {},
     "output_type": "execute_result"
    }
   ],
   "source": [
    "#Figuring out how ld sample data looks from Motec\n",
    "sample = \"M1.ld\"\n",
    "\n",
    "tmp = ldData.fromfile(sample)\n",
    "sample_df = pd.DataFrame(columns=[x for x in tmp])\n",
    "for x in tmp:\n",
    "    print(x)\n",
    "sample_df.head()"
   ]
  },
  {
   "cell_type": "code",
   "execution_count": 53,
   "metadata": {},
   "outputs": [
    {
     "data": {
      "text/plain": [
       "Index(['timestamp', 'Frequency 1', 'Frequency 2', 'Frequency 3', 'Frequency 4',\n",
       "       'Driven Avg Wheel Speed', 'Non-Driven Avg Wheel Speed',\n",
       "       'Ignition Compensation', 'Ignition Cut Percentage', 'RPM', 'TPS',\n",
       "       'Fuel Open Time', 'Ignition Angle', 'Driven Wheel Speed #1',\n",
       "       'Driven Wheel Speed #2', 'Non-Driven Wheel Speed #1',\n",
       "       'Non-Driven Wheel Speed #2', 'Barometer', 'MAP', 'Lambda',\n",
       "       'Pressure Type', 'Analog Input #1', 'Analog Input #2',\n",
       "       'Analog Input #3', 'Analog Input #4', 'Analog Input #5',\n",
       "       'Analog Input #6', 'Analog Input #7', 'Analog Input #8', 'Battery Volt',\n",
       "       'Air Temp', 'Coolant Temp', 'Temp Type'],\n",
       "      dtype='object')"
      ]
     },
     "execution_count": 53,
     "metadata": {},
     "output_type": "execute_result"
    }
   ],
   "source": [
    "# Reading in can files\n",
    "i = 758\n",
    "inputFile = \"./can_data/can-_ecu_\" + str(i) + \".csv\"\n",
    "input_df = pd.read_csv(inputFile)\n",
    "#input_df.columns # Used to see names of columns to reorganize"
   ]
  },
  {
   "cell_type": "code",
   "execution_count": 61,
   "metadata": {},
   "outputs": [],
   "source": [
    "# Rearranging dataframe so motec will accept data\n",
    "dfColumns=['Engine Speed','Engine Speed Limit','Gear','Brake State',\n",
    "           'ECU Acceleration X','ECU Acceleration Y','ECU Acceleration Z',\n",
    "           'Corr Speed','Throttle Servo Bank 1 Aim',\n",
    "           'Throttle Servo Bank 1 Position','Throttle Pedal','Brake Bias Setting',\n",
    "           'Fuel Injector Primary Duty Cycle','Throttle Position','Throttle Aim',\n",
    "           'Steering Angle','Brake Pressure Front','Brake Pressure Rear',\n",
    "           'Engine Oil Pressure','Brake Temp FL','Brake Temp FR','Brake Temp RL',\n",
    "           'Brake Temp RR','Inlet Air Temperature','Coolant Temperature',\n",
    "           'Engine Oil Temperature','Differential Temperature','Transmission Temperature',\n",
    "           'Tyre Temp FL','Tyre Temp FR','Tyre Temp RL','Tyre Temp RR','Fuel Mixture Aim',\n",
    "           'Exhaust Lambda Bank 1','Exhaust Lambda Bank 2','Exhaust Lambda',\n",
    "           'Inlet Manifold Pressure','Fuel Pressure','Ignition Timing',\n",
    "           'Ignition Timing Main','ECU Battery Voltage','Beacon']\n",
    "\n",
    "output_df = pd.DataFrame(np.zeros((len(input_df.index), len(dfColumns))), columns = dfColumns)\n",
    "\n",
    "# This is long, don't know how else to format\n",
    "output_df[['Engine Speed','Throttle Position', 'Inlet Air Temperature', 'Coolant Temperature', 'Exhaust Lambda', 'Inlet Manifold Pressure', 'ECU Battery Voltage']] = input_df[['RPM', 'TPS', 'Air Temp', 'Coolant Temp', 'Lambda', 'MAP', 'Battery Volt']]"
   ]
  },
  {
   "cell_type": "code",
   "execution_count": 62,
   "metadata": {},
   "outputs": [],
   "source": [
    "# create an lddata object from the dataframe\n",
    "l = ldData.frompd(output_df)\n",
    "# write an .ld file\n",
    "l.write(\"test.ld\")"
   ]
  },
  {
   "cell_type": "code",
   "execution_count": 19,
   "metadata": {},
   "outputs": [
    {
     "data": {
      "text/plain": [
       "\"# just to check, read back the file\\nl = ldData.fromfile('test1.ld')\\n# create pandas dataframe\\ntest_df = pd.DataFrame(data={c: l[c].data for c in l})\\nprint(test_df)\""
      ]
     },
     "execution_count": 19,
     "metadata": {},
     "output_type": "execute_result"
    }
   ],
   "source": []
  }
 ],
 "metadata": {
  "kernelspec": {
   "display_name": "Python 3",
   "language": "python",
   "name": "python3"
  },
  "language_info": {
   "codemirror_mode": {
    "name": "ipython",
    "version": 3
   },
   "file_extension": ".py",
   "mimetype": "text/x-python",
   "name": "python",
   "nbconvert_exporter": "python",
   "pygments_lexer": "ipython3",
   "version": "3.12.0"
  }
 },
 "nbformat": 4,
 "nbformat_minor": 2
}
